{
 "cells": [
  {
   "cell_type": "code",
   "execution_count": 1,
   "metadata": {},
   "outputs": [
    {
     "data": {
      "text/html": [
       "        <script type=\"text/javascript\">\n",
       "        window.PlotlyConfig = {MathJaxConfig: 'local'};\n",
       "        if (window.MathJax) {MathJax.Hub.Config({SVG: {font: \"STIX-Web\"}});}\n",
       "        if (typeof require !== 'undefined') {\n",
       "        require.undef(\"plotly\");\n",
       "        requirejs.config({\n",
       "            paths: {\n",
       "                'plotly': ['https://cdn.plot.ly/plotly-latest.min']\n",
       "            }\n",
       "        });\n",
       "        require(['plotly'], function(Plotly) {\n",
       "            window._Plotly = Plotly;\n",
       "        });\n",
       "        }\n",
       "        </script>\n",
       "        "
      ]
     },
     "metadata": {},
     "output_type": "display_data"
    }
   ],
   "source": [
    "import keras\n",
    "from keras.layers import Conv2D, Conv3D, Flatten, Dense, Reshape, BatchNormalization\n",
    "from keras.layers import Dropout, Input\n",
    "from keras.models import Model\n",
    "from keras.optimizers import Adam\n",
    "from keras.callbacks import ModelCheckpoint\n",
    "from keras.utils import np_utils\n",
    "\n",
    "from sklearn.decomposition import PCA\n",
    "from sklearn.model_selection import train_test_split\n",
    "from sklearn.metrics import confusion_matrix, accuracy_score, classification_report, cohen_kappa_score\n",
    "\n",
    "from operator import truediv\n",
    "\n",
    "from plotly.offline import init_notebook_mode\n",
    "\n",
    "import numpy as np\n",
    "import matplotlib.pyplot as plt\n",
    "import scipy.io as sio\n",
    "import os\n",
    "import spectral\n",
    "\n",
    "init_notebook_mode(connected=True)\n",
    "%matplotlib inline"
   ]
  },
  {
   "cell_type": "markdown",
   "metadata": {},
   "source": []
  },
  {
   "cell_type": "code",
   "execution_count": 2,
   "metadata": {},
   "outputs": [],
   "source": [
    "## GLOBAL VARIABLES\n",
    "dataset = 'IP'\n",
    "test_ratio = 0.7\n",
    "windowSize = 25"
   ]
  },
  {
   "cell_type": "code",
   "execution_count": 3,
   "metadata": {},
   "outputs": [],
   "source": [
    "def loadData(name):\n",
    "    data_path = os.path.join(os.getcwd(),'data')\n",
    "    if name == 'IP':\n",
    "        data = sio.loadmat(os.path.join(data_path, 'Indian_pines_corrected.mat'))['indian_pines_corrected']\n",
    "        labels = sio.loadmat(os.path.join(data_path, 'Indian_pines_gt.mat'))['indian_pines_gt']\n",
    "    elif name == 'SA':\n",
    "        data = sio.loadmat(os.path.join(data_path, 'Salinas_corrected.mat'))['salinas_corrected']\n",
    "        labels = sio.loadmat(os.path.join(data_path, 'Salinas_gt.mat'))['salinas_gt']\n",
    "    elif name == 'PU':\n",
    "        data = sio.loadmat(os.path.join(data_path, 'PaviaU.mat'))['paviaU']\n",
    "        labels = sio.loadmat(os.path.join(data_path, 'PaviaU_gt.mat'))['paviaU_gt']\n",
    "        \n",
    "    return data, labels"
   ]
  },
  {
   "cell_type": "code",
   "execution_count": 4,
   "metadata": {},
   "outputs": [],
   "source": [
    "def splitTrainTestSet(X, y, testRatio, randomState=345):\n",
    "    X_train, X_test, y_train, y_test = train_test_split(X, y, test_size=testRatio, random_state=randomState,\n",
    "                                                        stratify=y)\n",
    "    return X_train, X_test, y_train, y_test"
   ]
  },
  {
   "cell_type": "code",
   "execution_count": 5,
   "metadata": {},
   "outputs": [],
   "source": [
    "def applyPCA(X, numComponents=75):\n",
    "    newX = np.reshape(X, (-1, X.shape[2]))\n",
    "    pca = PCA(n_components=numComponents, whiten=True)\n",
    "    newX = pca.fit_transform(newX)\n",
    "    newX = np.reshape(newX, (X.shape[0],X.shape[1], numComponents))\n",
    "    return newX, pca"
   ]
  },
  {
   "cell_type": "code",
   "execution_count": 6,
   "metadata": {},
   "outputs": [],
   "source": [
    "def padWithZeros(X, margin=2):\n",
    "    newX = np.zeros((X.shape[0] + 2 * margin, X.shape[1] + 2* margin, X.shape[2]))\n",
    "    x_offset = margin\n",
    "    y_offset = margin\n",
    "    newX[x_offset:X.shape[0] + x_offset, y_offset:X.shape[1] + y_offset, :] = X\n",
    "    return newX"
   ]
  },
  {
   "cell_type": "code",
   "execution_count": 7,
   "metadata": {},
   "outputs": [],
   "source": [
    "def createImageCubes(X, y, windowSize=5, removeZeroLabels = True):\n",
    "    margin = int((windowSize - 1) / 2)\n",
    "    zeroPaddedX = padWithZeros(X, margin=margin)\n",
    "    # split patches\n",
    "    patchesData = np.zeros((X.shape[0] * X.shape[1], windowSize, windowSize, X.shape[2]))\n",
    "    patchesLabels = np.zeros((X.shape[0] * X.shape[1]))\n",
    "    patchIndex = 0\n",
    "    for r in range(margin, zeroPaddedX.shape[0] - margin):\n",
    "        for c in range(margin, zeroPaddedX.shape[1] - margin):\n",
    "            patch = zeroPaddedX[r - margin:r + margin + 1, c - margin:c + margin + 1]   \n",
    "            patchesData[patchIndex, :, :, :] = patch\n",
    "            patchesLabels[patchIndex] = y[r-margin, c-margin]\n",
    "            patchIndex = patchIndex + 1\n",
    "    if removeZeroLabels:\n",
    "        patchesData = patchesData[patchesLabels>0,:,:,:]\n",
    "        patchesLabels = patchesLabels[patchesLabels>0]\n",
    "        patchesLabels -= 1\n",
    "    return patchesData, patchesLabels"
   ]
  },
  {
   "cell_type": "code",
   "execution_count": 8,
   "metadata": {},
   "outputs": [
    {
     "data": {
      "text/plain": [
       "((145, 145, 200), (145, 145))"
      ]
     },
     "execution_count": 8,
     "metadata": {},
     "output_type": "execute_result"
    }
   ],
   "source": [
    "X, y = loadData(dataset)\n",
    "\n",
    "X.shape, y.shape"
   ]
  },
  {
   "cell_type": "code",
   "execution_count": 9,
   "metadata": {},
   "outputs": [],
   "source": [
    "K = X.shape[2]"
   ]
  },
  {
   "cell_type": "code",
   "execution_count": 10,
   "metadata": {},
   "outputs": [
    {
     "data": {
      "text/plain": [
       "(145, 145, 30)"
      ]
     },
     "execution_count": 10,
     "metadata": {},
     "output_type": "execute_result"
    }
   ],
   "source": [
    "K = 30 if dataset == 'IP' else 15\n",
    "X,pca = applyPCA(X,numComponents=K)\n",
    "\n",
    "X.shape"
   ]
  },
  {
   "cell_type": "code",
   "execution_count": 11,
   "metadata": {},
   "outputs": [
    {
     "data": {
      "text/plain": [
       "((10249, 25, 25, 30), (10249,))"
      ]
     },
     "execution_count": 11,
     "metadata": {},
     "output_type": "execute_result"
    }
   ],
   "source": [
    "X, y = createImageCubes(X, y, windowSize=windowSize)\n",
    "\n",
    "X.shape, y.shape"
   ]
  },
  {
   "cell_type": "code",
   "execution_count": 12,
   "metadata": {},
   "outputs": [
    {
     "data": {
      "text/plain": [
       "((3074, 25, 25, 30), (7175, 25, 25, 30), (3074,), (7175,))"
      ]
     },
     "execution_count": 12,
     "metadata": {},
     "output_type": "execute_result"
    }
   ],
   "source": [
    "Xtrain, Xtest, ytrain, ytest = splitTrainTestSet(X, y, test_ratio)\n",
    "\n",
    "Xtrain.shape, Xtest.shape, ytrain.shape, ytest.shape"
   ]
  },
  {
   "cell_type": "markdown",
   "metadata": {},
   "source": []
  },
  {
   "cell_type": "markdown",
   "metadata": {},
   "source": []
  },
  {
   "cell_type": "code",
   "execution_count": 13,
   "metadata": {},
   "outputs": [
    {
     "data": {
      "text/plain": [
       "(3074, 25, 25, 30, 1)"
      ]
     },
     "execution_count": 13,
     "metadata": {},
     "output_type": "execute_result"
    }
   ],
   "source": [
    "Xtrain = Xtrain.reshape(-1, windowSize, windowSize, K, 1)\n",
    "Xtrain.shape"
   ]
  },
  {
   "cell_type": "code",
   "execution_count": 14,
   "metadata": {},
   "outputs": [
    {
     "data": {
      "text/plain": [
       "(3074, 16)"
      ]
     },
     "execution_count": 14,
     "metadata": {},
     "output_type": "execute_result"
    }
   ],
   "source": [
    "ytrain = np_utils.to_categorical(ytrain)\n",
    "ytrain.shape"
   ]
  },
  {
   "cell_type": "markdown",
   "metadata": {},
   "source": []
  },
  {
   "cell_type": "markdown",
   "metadata": {},
   "source": []
  },
  {
   "cell_type": "code",
   "execution_count": 15,
   "metadata": {},
   "outputs": [],
   "source": [
    "S = windowSize\n",
    "L = K\n",
    "output_units = 9 if (dataset == 'PU' or dataset == 'PC') else 16"
   ]
  },
  {
   "cell_type": "code",
   "execution_count": 16,
   "metadata": {},
   "outputs": [
    {
     "name": "stdout",
     "output_type": "stream",
     "text": [
      "(None, 19, 19, 18, 32)\n"
     ]
    }
   ],
   "source": [
    "## input layer\n",
    "input_layer = Input((S, S, L, 1))\n",
    "\n",
    "## convolutional layers\n",
    "conv_layer1 = Conv3D(filters=8, kernel_size=(3, 3, 7), activation='relu')(input_layer)\n",
    "conv_layer2 = Conv3D(filters=16, kernel_size=(3, 3, 5), activation='relu')(conv_layer1)\n",
    "conv_layer3 = Conv3D(filters=32, kernel_size=(3, 3, 3), activation='relu')(conv_layer2)\n",
    "print(conv_layer3.shape)\n",
    "conv3d_shape = conv_layer3.shape\n",
    "conv_layer3 = Reshape((conv3d_shape[1], conv3d_shape[2], conv3d_shape[3]*conv3d_shape[4]))(conv_layer3)\n",
    "conv_layer4 = Conv2D(filters=64, kernel_size=(3,3), activation='relu')(conv_layer3)\n",
    "\n",
    "flatten_layer = Flatten()(conv_layer4)\n",
    "\n",
    "## fully connected layers\n",
    "dense_layer1 = Dense(units=256, activation='relu')(flatten_layer)\n",
    "dense_layer1 = Dropout(0.4)(dense_layer1)\n",
    "dense_layer2 = Dense(units=128, activation='relu')(dense_layer1)\n",
    "dense_layer2 = Dropout(0.4)(dense_layer2)\n",
    "output_layer = Dense(units=output_units, activation='softmax')(dense_layer2)"
   ]
  },
  {
   "cell_type": "code",
   "execution_count": 17,
   "metadata": {},
   "outputs": [],
   "source": [
    "# define the model with input layer and output layer\n",
    "model = Model(inputs=input_layer, outputs=output_layer)"
   ]
  },
  {
   "cell_type": "code",
   "execution_count": 18,
   "metadata": {},
   "outputs": [
    {
     "name": "stdout",
     "output_type": "stream",
     "text": [
      "Model: \"functional_1\"\n",
      "_________________________________________________________________\n",
      "Layer (type)                 Output Shape              Param #   \n",
      "=================================================================\n",
      "input_1 (InputLayer)         [(None, 25, 25, 30, 1)]   0         \n",
      "_________________________________________________________________\n",
      "conv3d (Conv3D)              (None, 23, 23, 24, 8)     512       \n",
      "_________________________________________________________________\n",
      "conv3d_1 (Conv3D)            (None, 21, 21, 20, 16)    5776      \n",
      "_________________________________________________________________\n",
      "conv3d_2 (Conv3D)            (None, 19, 19, 18, 32)    13856     \n",
      "_________________________________________________________________\n",
      "reshape (Reshape)            (None, 19, 19, 576)       0         \n",
      "_________________________________________________________________\n",
      "conv2d (Conv2D)              (None, 17, 17, 64)        331840    \n",
      "_________________________________________________________________\n",
      "flatten (Flatten)            (None, 18496)             0         \n",
      "_________________________________________________________________\n",
      "dense (Dense)                (None, 256)               4735232   \n",
      "_________________________________________________________________\n",
      "dropout (Dropout)            (None, 256)               0         \n",
      "_________________________________________________________________\n",
      "dense_1 (Dense)              (None, 128)               32896     \n",
      "_________________________________________________________________\n",
      "dropout_1 (Dropout)          (None, 128)               0         \n",
      "_________________________________________________________________\n",
      "dense_2 (Dense)              (None, 16)                2064      \n",
      "=================================================================\n",
      "Total params: 5,122,176\n",
      "Trainable params: 5,122,176\n",
      "Non-trainable params: 0\n",
      "_________________________________________________________________\n"
     ]
    }
   ],
   "source": [
    "model.summary()"
   ]
  },
  {
   "cell_type": "code",
   "execution_count": 19,
   "metadata": {},
   "outputs": [],
   "source": [
    "# compiling the model\n",
    "adam = Adam(lr=0.001, decay=1e-06)\n",
    "model.compile(loss='categorical_crossentropy', optimizer=adam, metrics=['accuracy'])"
   ]
  },
  {
   "cell_type": "code",
   "execution_count": 20,
   "metadata": {},
   "outputs": [],
   "source": [
    "# checkpoint\n",
    "filepath = \"best-model.hdf5\"\n",
    "checkpoint = ModelCheckpoint(filepath, monitor='acc', verbose=1, save_best_only=True, mode='max')\n",
    "callbacks_list = [checkpoint]"
   ]
  },
  {
   "cell_type": "code",
   "execution_count": 21,
   "metadata": {},
   "outputs": [
    {
     "name": "stdout",
     "output_type": "stream",
     "text": [
      "Epoch 1/100\n",
      "13/13 [==============================] - ETA: 0s - loss: 2.6496 - accuracy: 0.1649WARNING:tensorflow:Can save best model only with acc available, skipping.\n",
      "13/13 [==============================] - 108s 8s/step - loss: 2.6496 - accuracy: 0.1649\n",
      "Epoch 2/100\n",
      "13/13 [==============================] - ETA: 0s - loss: 2.3315 - accuracy: 0.2069WARNING:tensorflow:Can save best model only with acc available, skipping.\n",
      "13/13 [==============================] - 115s 9s/step - loss: 2.3315 - accuracy: 0.2069\n",
      "Epoch 3/100\n",
      "13/13 [==============================] - ETA: 0s - loss: 1.9886 - accuracy: 0.2918WARNING:tensorflow:Can save best model only with acc available, skipping.\n",
      "13/13 [==============================] - 118s 9s/step - loss: 1.9886 - accuracy: 0.2918\n",
      "Epoch 4/100\n",
      "13/13 [==============================] - ETA: 0s - loss: 1.3235 - accuracy: 0.5595 WARNING:tensorflow:Can save best model only with acc available, skipping.\n",
      "13/13 [==============================] - 138s 11s/step - loss: 1.3235 - accuracy: 0.5595\n",
      "Epoch 5/100\n",
      "13/13 [==============================] - ETA: 0s - loss: 0.7793 - accuracy: 0.7547WARNING:tensorflow:Can save best model only with acc available, skipping.\n",
      "13/13 [==============================] - 113s 9s/step - loss: 0.7793 - accuracy: 0.7547\n",
      "Epoch 6/100\n",
      "13/13 [==============================] - ETA: 0s - loss: 0.3222 - accuracy: 0.8969WARNING:tensorflow:Can save best model only with acc available, skipping.\n",
      "13/13 [==============================] - 117s 9s/step - loss: 0.3222 - accuracy: 0.8969\n",
      "Epoch 7/100\n",
      "13/13 [==============================] - ETA: 0s - loss: 0.1968 - accuracy: 0.9392WARNING:tensorflow:Can save best model only with acc available, skipping.\n",
      "13/13 [==============================] - 106s 8s/step - loss: 0.1968 - accuracy: 0.9392\n",
      "Epoch 8/100\n",
      "13/13 [==============================] - ETA: 0s - loss: 0.1106 - accuracy: 0.9694WARNING:tensorflow:Can save best model only with acc available, skipping.\n",
      "13/13 [==============================] - 105s 8s/step - loss: 0.1106 - accuracy: 0.9694\n",
      "Epoch 9/100\n",
      "13/13 [==============================] - ETA: 0s - loss: 0.0814 - accuracy: 0.9736WARNING:tensorflow:Can save best model only with acc available, skipping.\n",
      "13/13 [==============================] - 106s 8s/step - loss: 0.0814 - accuracy: 0.9736\n",
      "Epoch 10/100\n",
      "13/13 [==============================] - ETA: 0s - loss: 0.2690 - accuracy: 0.9262WARNING:tensorflow:Can save best model only with acc available, skipping.\n",
      "13/13 [==============================] - 104s 8s/step - loss: 0.2690 - accuracy: 0.9262\n",
      "Epoch 11/100\n",
      "13/13 [==============================] - ETA: 0s - loss: 0.1109 - accuracy: 0.9707WARNING:tensorflow:Can save best model only with acc available, skipping.\n",
      "13/13 [==============================] - 103s 8s/step - loss: 0.1109 - accuracy: 0.9707\n",
      "Epoch 12/100\n",
      "13/13 [==============================] - ETA: 0s - loss: 0.0759 - accuracy: 0.9789WARNING:tensorflow:Can save best model only with acc available, skipping.\n",
      "13/13 [==============================] - 100s 8s/step - loss: 0.0759 - accuracy: 0.9789\n",
      "Epoch 13/100\n",
      "13/13 [==============================] - ETA: 0s - loss: 0.0538 - accuracy: 0.9828WARNING:tensorflow:Can save best model only with acc available, skipping.\n",
      "13/13 [==============================] - 100s 8s/step - loss: 0.0538 - accuracy: 0.9828\n",
      "Epoch 14/100\n",
      "13/13 [==============================] - ETA: 0s - loss: 0.0453 - accuracy: 0.9863WARNING:tensorflow:Can save best model only with acc available, skipping.\n",
      "13/13 [==============================] - 100s 8s/step - loss: 0.0453 - accuracy: 0.9863\n",
      "Epoch 15/100\n",
      "13/13 [==============================] - ETA: 0s - loss: 0.0287 - accuracy: 0.9902WARNING:tensorflow:Can save best model only with acc available, skipping.\n",
      "13/13 [==============================] - 100s 8s/step - loss: 0.0287 - accuracy: 0.9902\n",
      "Epoch 16/100\n",
      "13/13 [==============================] - ETA: 0s - loss: 0.0267 - accuracy: 0.9922WARNING:tensorflow:Can save best model only with acc available, skipping.\n",
      "13/13 [==============================] - 101s 8s/step - loss: 0.0267 - accuracy: 0.9922\n",
      "Epoch 17/100\n",
      "13/13 [==============================] - ETA: 0s - loss: 0.0200 - accuracy: 0.9932WARNING:tensorflow:Can save best model only with acc available, skipping.\n",
      "13/13 [==============================] - 105s 8s/step - loss: 0.0200 - accuracy: 0.9932\n",
      "Epoch 18/100\n",
      "13/13 [==============================] - ETA: 0s - loss: 0.0105 - accuracy: 0.9964WARNING:tensorflow:Can save best model only with acc available, skipping.\n",
      "13/13 [==============================] - 104s 8s/step - loss: 0.0105 - accuracy: 0.9964\n",
      "Epoch 19/100\n",
      "13/13 [==============================] - ETA: 0s - loss: 0.0181 - accuracy: 0.9951WARNING:tensorflow:Can save best model only with acc available, skipping.\n",
      "13/13 [==============================] - 104s 8s/step - loss: 0.0181 - accuracy: 0.9951\n",
      "Epoch 20/100\n",
      "13/13 [==============================] - ETA: 0s - loss: 0.0070 - accuracy: 0.9974WARNING:tensorflow:Can save best model only with acc available, skipping.\n",
      "13/13 [==============================] - 105s 8s/step - loss: 0.0070 - accuracy: 0.9974\n",
      "Epoch 21/100\n",
      "13/13 [==============================] - ETA: 0s - loss: 0.0115 - accuracy: 0.9967WARNING:tensorflow:Can save best model only with acc available, skipping.\n",
      "13/13 [==============================] - 105s 8s/step - loss: 0.0115 - accuracy: 0.9967\n",
      "Epoch 22/100\n",
      "13/13 [==============================] - ETA: 0s - loss: 0.0104 - accuracy: 0.9971WARNING:tensorflow:Can save best model only with acc available, skipping.\n",
      "13/13 [==============================] - 104s 8s/step - loss: 0.0104 - accuracy: 0.9971\n",
      "Epoch 23/100\n",
      "13/13 [==============================] - ETA: 0s - loss: 0.0096 - accuracy: 0.9964WARNING:tensorflow:Can save best model only with acc available, skipping.\n",
      "13/13 [==============================] - 100s 8s/step - loss: 0.0096 - accuracy: 0.9964\n",
      "Epoch 24/100\n",
      "13/13 [==============================] - ETA: 0s - loss: 0.0096 - accuracy: 0.9967WARNING:tensorflow:Can save best model only with acc available, skipping.\n",
      "13/13 [==============================] - 100s 8s/step - loss: 0.0096 - accuracy: 0.9967\n",
      "Epoch 25/100\n",
      "13/13 [==============================] - ETA: 0s - loss: 0.0109 - accuracy: 0.9971WARNING:tensorflow:Can save best model only with acc available, skipping.\n",
      "13/13 [==============================] - 100s 8s/step - loss: 0.0109 - accuracy: 0.9971\n",
      "Epoch 26/100\n",
      "13/13 [==============================] - ETA: 0s - loss: 0.0227 - accuracy: 0.9935WARNING:tensorflow:Can save best model only with acc available, skipping.\n",
      "13/13 [==============================] - 100s 8s/step - loss: 0.0227 - accuracy: 0.9935\n",
      "Epoch 27/100\n",
      "13/13 [==============================] - ETA: 0s - loss: 0.0126 - accuracy: 0.9961WARNING:tensorflow:Can save best model only with acc available, skipping.\n",
      "13/13 [==============================] - 100s 8s/step - loss: 0.0126 - accuracy: 0.9961\n",
      "Epoch 28/100\n",
      "13/13 [==============================] - ETA: 0s - loss: 0.0248 - accuracy: 0.9938WARNING:tensorflow:Can save best model only with acc available, skipping.\n",
      "13/13 [==============================] - 100s 8s/step - loss: 0.0248 - accuracy: 0.9938\n",
      "Epoch 29/100\n",
      "13/13 [==============================] - ETA: 0s - loss: 0.0134 - accuracy: 0.9961WARNING:tensorflow:Can save best model only with acc available, skipping.\n",
      "13/13 [==============================] - 100s 8s/step - loss: 0.0134 - accuracy: 0.9961\n",
      "Epoch 30/100\n",
      "13/13 [==============================] - ETA: 0s - loss: 0.0101 - accuracy: 0.9971WARNING:tensorflow:Can save best model only with acc available, skipping.\n",
      "13/13 [==============================] - 106s 8s/step - loss: 0.0101 - accuracy: 0.9971\n",
      "Epoch 31/100\n",
      "13/13 [==============================] - ETA: 0s - loss: 0.0104 - accuracy: 0.9974WARNING:tensorflow:Can save best model only with acc available, skipping.\n",
      "13/13 [==============================] - 104s 8s/step - loss: 0.0104 - accuracy: 0.9974\n",
      "Epoch 32/100\n",
      "13/13 [==============================] - ETA: 0s - loss: 0.0183 - accuracy: 0.9958WARNING:tensorflow:Can save best model only with acc available, skipping.\n",
      "13/13 [==============================] - 105s 8s/step - loss: 0.0183 - accuracy: 0.9958\n"
     ]
    },
    {
     "name": "stdout",
     "output_type": "stream",
     "text": [
      "Epoch 33/100\n",
      "13/13 [==============================] - ETA: 0s - loss: 0.0074 - accuracy: 0.9980WARNING:tensorflow:Can save best model only with acc available, skipping.\n",
      "13/13 [==============================] - 104s 8s/step - loss: 0.0074 - accuracy: 0.9980\n",
      "Epoch 34/100\n",
      "13/13 [==============================] - ETA: 0s - loss: 0.0123 - accuracy: 0.9958WARNING:tensorflow:Can save best model only with acc available, skipping.\n",
      "13/13 [==============================] - 104s 8s/step - loss: 0.0123 - accuracy: 0.9958\n",
      "Epoch 35/100\n",
      "13/13 [==============================] - ETA: 0s - loss: 0.0128 - accuracy: 0.9971WARNING:tensorflow:Can save best model only with acc available, skipping.\n",
      "13/13 [==============================] - 102s 8s/step - loss: 0.0128 - accuracy: 0.9971\n",
      "Epoch 36/100\n",
      "13/13 [==============================] - ETA: 0s - loss: 0.0108 - accuracy: 0.9958WARNING:tensorflow:Can save best model only with acc available, skipping.\n",
      "13/13 [==============================] - 100s 8s/step - loss: 0.0108 - accuracy: 0.9958\n",
      "Epoch 37/100\n",
      "13/13 [==============================] - ETA: 0s - loss: 0.0265 - accuracy: 0.9945WARNING:tensorflow:Can save best model only with acc available, skipping.\n",
      "13/13 [==============================] - 100s 8s/step - loss: 0.0265 - accuracy: 0.9945\n",
      "Epoch 38/100\n",
      "13/13 [==============================] - ETA: 0s - loss: 0.0102 - accuracy: 0.9967WARNING:tensorflow:Can save best model only with acc available, skipping.\n",
      "13/13 [==============================] - 100s 8s/step - loss: 0.0102 - accuracy: 0.9967\n",
      "Epoch 39/100\n",
      "13/13 [==============================] - ETA: 0s - loss: 0.0047 - accuracy: 0.9987WARNING:tensorflow:Can save best model only with acc available, skipping.\n",
      "13/13 [==============================] - 102s 8s/step - loss: 0.0047 - accuracy: 0.9987\n",
      "Epoch 40/100\n",
      "13/13 [==============================] - ETA: 0s - loss: 0.0035 - accuracy: 0.9990WARNING:tensorflow:Can save best model only with acc available, skipping.\n",
      "13/13 [==============================] - 100s 8s/step - loss: 0.0035 - accuracy: 0.9990\n",
      "Epoch 41/100\n",
      "13/13 [==============================] - ETA: 0s - loss: 0.0074 - accuracy: 0.9987WARNING:tensorflow:Can save best model only with acc available, skipping.\n",
      "13/13 [==============================] - 100s 8s/step - loss: 0.0074 - accuracy: 0.9987\n",
      "Epoch 42/100\n",
      "13/13 [==============================] - ETA: 0s - loss: 0.0081 - accuracy: 0.9974WARNING:tensorflow:Can save best model only with acc available, skipping.\n",
      "13/13 [==============================] - 103s 8s/step - loss: 0.0081 - accuracy: 0.9974\n",
      "Epoch 43/100\n",
      "13/13 [==============================] - ETA: 0s - loss: 0.0051 - accuracy: 0.9980WARNING:tensorflow:Can save best model only with acc available, skipping.\n",
      "13/13 [==============================] - 105s 8s/step - loss: 0.0051 - accuracy: 0.9980\n",
      "Epoch 44/100\n",
      "13/13 [==============================] - ETA: 0s - loss: 0.0092 - accuracy: 0.9980WARNING:tensorflow:Can save best model only with acc available, skipping.\n",
      "13/13 [==============================] - 104s 8s/step - loss: 0.0092 - accuracy: 0.9980\n",
      "Epoch 45/100\n",
      "13/13 [==============================] - ETA: 0s - loss: 0.0144 - accuracy: 0.9961WARNING:tensorflow:Can save best model only with acc available, skipping.\n",
      "13/13 [==============================] - 104s 8s/step - loss: 0.0144 - accuracy: 0.9961\n",
      "Epoch 46/100\n",
      "13/13 [==============================] - ETA: 0s - loss: 0.0063 - accuracy: 0.9980WARNING:tensorflow:Can save best model only with acc available, skipping.\n",
      "13/13 [==============================] - 103s 8s/step - loss: 0.0063 - accuracy: 0.9980\n",
      "Epoch 47/100\n",
      "13/13 [==============================] - ETA: 0s - loss: 0.0049 - accuracy: 0.9987WARNING:tensorflow:Can save best model only with acc available, skipping.\n",
      "13/13 [==============================] - 103s 8s/step - loss: 0.0049 - accuracy: 0.9987\n",
      "Epoch 48/100\n",
      "13/13 [==============================] - ETA: 0s - loss: 0.0058 - accuracy: 0.9980WARNING:tensorflow:Can save best model only with acc available, skipping.\n",
      "13/13 [==============================] - 101s 8s/step - loss: 0.0058 - accuracy: 0.9980\n",
      "Epoch 49/100\n",
      "13/13 [==============================] - ETA: 0s - loss: 0.0045 - accuracy: 0.9987WARNING:tensorflow:Can save best model only with acc available, skipping.\n",
      "13/13 [==============================] - 100s 8s/step - loss: 0.0045 - accuracy: 0.9987\n",
      "Epoch 50/100\n",
      "13/13 [==============================] - ETA: 0s - loss: 0.0071 - accuracy: 0.9977WARNING:tensorflow:Can save best model only with acc available, skipping.\n",
      "13/13 [==============================] - 100s 8s/step - loss: 0.0071 - accuracy: 0.9977\n",
      "Epoch 51/100\n",
      "13/13 [==============================] - ETA: 0s - loss: 0.0073 - accuracy: 0.9984WARNING:tensorflow:Can save best model only with acc available, skipping.\n",
      "13/13 [==============================] - 100s 8s/step - loss: 0.0073 - accuracy: 0.9984\n",
      "Epoch 52/100\n",
      "13/13 [==============================] - ETA: 0s - loss: 0.0236 - accuracy: 0.9941WARNING:tensorflow:Can save best model only with acc available, skipping.\n",
      "13/13 [==============================] - 100s 8s/step - loss: 0.0236 - accuracy: 0.9941\n",
      "Epoch 53/100\n",
      "13/13 [==============================] - ETA: 0s - loss: 0.0212 - accuracy: 0.9951WARNING:tensorflow:Can save best model only with acc available, skipping.\n",
      "13/13 [==============================] - 100s 8s/step - loss: 0.0212 - accuracy: 0.9951\n",
      "Epoch 54/100\n",
      "13/13 [==============================] - ETA: 0s - loss: 0.0080 - accuracy: 0.9977WARNING:tensorflow:Can save best model only with acc available, skipping.\n",
      "13/13 [==============================] - 101s 8s/step - loss: 0.0080 - accuracy: 0.9977\n",
      "Epoch 55/100\n",
      "13/13 [==============================] - ETA: 0s - loss: 0.0078 - accuracy: 0.9974WARNING:tensorflow:Can save best model only with acc available, skipping.\n",
      "13/13 [==============================] - 100s 8s/step - loss: 0.0078 - accuracy: 0.9974\n",
      "Epoch 56/100\n",
      "13/13 [==============================] - ETA: 0s - loss: 0.0062 - accuracy: 0.9980WARNING:tensorflow:Can save best model only with acc available, skipping.\n",
      "13/13 [==============================] - 100s 8s/step - loss: 0.0062 - accuracy: 0.9980\n",
      "Epoch 57/100\n",
      "13/13 [==============================] - ETA: 0s - loss: 0.0044 - accuracy: 0.9987WARNING:tensorflow:Can save best model only with acc available, skipping.\n",
      "13/13 [==============================] - 100s 8s/step - loss: 0.0044 - accuracy: 0.9987\n",
      "Epoch 58/100\n",
      "13/13 [==============================] - ETA: 0s - loss: 0.0060 - accuracy: 0.9990WARNING:tensorflow:Can save best model only with acc available, skipping.\n",
      "13/13 [==============================] - 100s 8s/step - loss: 0.0060 - accuracy: 0.9990\n",
      "Epoch 59/100\n",
      "13/13 [==============================] - ETA: 0s - loss: 0.0054 - accuracy: 0.9990WARNING:tensorflow:Can save best model only with acc available, skipping.\n",
      "13/13 [==============================] - 101s 8s/step - loss: 0.0054 - accuracy: 0.9990\n",
      "Epoch 60/100\n",
      "13/13 [==============================] - ETA: 0s - loss: 0.0036 - accuracy: 0.9993WARNING:tensorflow:Can save best model only with acc available, skipping.\n",
      "13/13 [==============================] - 100s 8s/step - loss: 0.0036 - accuracy: 0.9993\n",
      "Epoch 61/100\n",
      "13/13 [==============================] - ETA: 0s - loss: 0.0042 - accuracy: 0.9990WARNING:tensorflow:Can save best model only with acc available, skipping.\n",
      "13/13 [==============================] - 100s 8s/step - loss: 0.0042 - accuracy: 0.9990\n",
      "Epoch 62/100\n",
      "13/13 [==============================] - ETA: 0s - loss: 0.0063 - accuracy: 0.9984WARNING:tensorflow:Can save best model only with acc available, skipping.\n",
      "13/13 [==============================] - 111s 9s/step - loss: 0.0063 - accuracy: 0.9984\n",
      "Epoch 63/100\n",
      "13/13 [==============================] - ETA: 0s - loss: 0.0037 - accuracy: 0.9980 WARNING:tensorflow:Can save best model only with acc available, skipping.\n",
      "13/13 [==============================] - 127s 10s/step - loss: 0.0037 - accuracy: 0.9980\n",
      "Epoch 64/100\n",
      "13/13 [==============================] - ETA: 0s - loss: 0.0049 - accuracy: 0.9987WARNING:tensorflow:Can save best model only with acc available, skipping.\n",
      "13/13 [==============================] - 105s 8s/step - loss: 0.0049 - accuracy: 0.9987\n"
     ]
    },
    {
     "name": "stdout",
     "output_type": "stream",
     "text": [
      "Epoch 65/100\n",
      "13/13 [==============================] - ETA: 0s - loss: 0.0046 - accuracy: 0.9997WARNING:tensorflow:Can save best model only with acc available, skipping.\n",
      "13/13 [==============================] - 106s 8s/step - loss: 0.0046 - accuracy: 0.9997\n",
      "Epoch 66/100\n",
      "13/13 [==============================] - ETA: 0s - loss: 0.0057 - accuracy: 0.9974WARNING:tensorflow:Can save best model only with acc available, skipping.\n",
      "13/13 [==============================] - 103s 8s/step - loss: 0.0057 - accuracy: 0.9974\n",
      "Epoch 67/100\n",
      "13/13 [==============================] - ETA: 0s - loss: 0.0034 - accuracy: 0.9987WARNING:tensorflow:Can save best model only with acc available, skipping.\n",
      "13/13 [==============================] - 103s 8s/step - loss: 0.0034 - accuracy: 0.9987\n",
      "Epoch 68/100\n",
      "13/13 [==============================] - ETA: 0s - loss: 0.0023 - accuracy: 0.9990WARNING:tensorflow:Can save best model only with acc available, skipping.\n",
      "13/13 [==============================] - 100s 8s/step - loss: 0.0023 - accuracy: 0.9990\n",
      "Epoch 69/100\n",
      "13/13 [==============================] - ETA: 0s - loss: 0.0097 - accuracy: 0.9977WARNING:tensorflow:Can save best model only with acc available, skipping.\n",
      "13/13 [==============================] - 99s 8s/step - loss: 0.0097 - accuracy: 0.9977\n",
      "Epoch 70/100\n",
      "13/13 [==============================] - ETA: 0s - loss: 0.0056 - accuracy: 0.9974WARNING:tensorflow:Can save best model only with acc available, skipping.\n",
      "13/13 [==============================] - 99s 8s/step - loss: 0.0056 - accuracy: 0.9974\n",
      "Epoch 71/100\n",
      "13/13 [==============================] - ETA: 0s - loss: 0.0054 - accuracy: 0.9984WARNING:tensorflow:Can save best model only with acc available, skipping.\n",
      "13/13 [==============================] - 101s 8s/step - loss: 0.0054 - accuracy: 0.9984\n",
      "Epoch 72/100\n",
      "13/13 [==============================] - ETA: 0s - loss: 0.0028 - accuracy: 0.9990WARNING:tensorflow:Can save best model only with acc available, skipping.\n",
      "13/13 [==============================] - 102s 8s/step - loss: 0.0028 - accuracy: 0.9990\n",
      "Epoch 73/100\n",
      "13/13 [==============================] - ETA: 0s - loss: 0.0016 - accuracy: 0.9997WARNING:tensorflow:Can save best model only with acc available, skipping.\n",
      "13/13 [==============================] - 110s 8s/step - loss: 0.0016 - accuracy: 0.9997\n",
      "Epoch 74/100\n",
      "13/13 [==============================] - ETA: 0s - loss: 0.0014 - accuracy: 0.9997 WARNING:tensorflow:Can save best model only with acc available, skipping.\n",
      "13/13 [==============================] - 102s 8s/step - loss: 0.0014 - accuracy: 0.9997\n",
      "Epoch 75/100\n",
      "13/13 [==============================] - ETA: 0s - loss: 0.0011 - accuracy: 0.9997  WARNING:tensorflow:Can save best model only with acc available, skipping.\n",
      "13/13 [==============================] - 102s 8s/step - loss: 0.0011 - accuracy: 0.9997\n",
      "Epoch 76/100\n",
      "13/13 [==============================] - ETA: 0s - loss: 0.0012 - accuracy: 0.9997WARNING:tensorflow:Can save best model only with acc available, skipping.\n",
      "13/13 [==============================] - 99s 8s/step - loss: 0.0012 - accuracy: 0.9997\n",
      "Epoch 77/100\n",
      "13/13 [==============================] - ETA: 0s - loss: 0.0046 - accuracy: 0.9993WARNING:tensorflow:Can save best model only with acc available, skipping.\n",
      "13/13 [==============================] - 98s 8s/step - loss: 0.0046 - accuracy: 0.9993\n",
      "Epoch 78/100\n",
      "13/13 [==============================] - ETA: 0s - loss: 0.0030 - accuracy: 0.9993WARNING:tensorflow:Can save best model only with acc available, skipping.\n",
      "13/13 [==============================] - 99s 8s/step - loss: 0.0030 - accuracy: 0.9993\n",
      "Epoch 79/100\n",
      "13/13 [==============================] - ETA: 0s - loss: 0.0023 - accuracy: 0.9990WARNING:tensorflow:Can save best model only with acc available, skipping.\n",
      "13/13 [==============================] - 98s 8s/step - loss: 0.0023 - accuracy: 0.9990\n",
      "Epoch 80/100\n",
      "13/13 [==============================] - ETA: 0s - loss: 0.0013 - accuracy: 1.0000WARNING:tensorflow:Can save best model only with acc available, skipping.\n",
      "13/13 [==============================] - 99s 8s/step - loss: 0.0013 - accuracy: 1.0000\n",
      "Epoch 81/100\n",
      "13/13 [==============================] - ETA: 0s - loss: 0.0013 - accuracy: 0.9993WARNING:tensorflow:Can save best model only with acc available, skipping.\n",
      "13/13 [==============================] - 98s 8s/step - loss: 0.0013 - accuracy: 0.9993\n",
      "Epoch 82/100\n",
      "13/13 [==============================] - ETA: 0s - loss: 8.4234e-04 - accuracy: 0.9997WARNING:tensorflow:Can save best model only with acc available, skipping.\n",
      "13/13 [==============================] - 99s 8s/step - loss: 8.4234e-04 - accuracy: 0.9997\n",
      "Epoch 83/100\n",
      "13/13 [==============================] - ETA: 0s - loss: 3.3694e-04 - accuracy: 1.0000WARNING:tensorflow:Can save best model only with acc available, skipping.\n",
      "13/13 [==============================] - 98s 8s/step - loss: 3.3694e-04 - accuracy: 1.0000\n",
      "Epoch 84/100\n",
      "13/13 [==============================] - ETA: 0s - loss: 0.0024 - accuracy: 0.9993 WARNING:tensorflow:Can save best model only with acc available, skipping.\n",
      "13/13 [==============================] - 98s 8s/step - loss: 0.0024 - accuracy: 0.9993\n",
      "Epoch 85/100\n",
      "13/13 [==============================] - ETA: 0s - loss: 0.0067 - accuracy: 0.9977WARNING:tensorflow:Can save best model only with acc available, skipping.\n",
      "13/13 [==============================] - 101s 8s/step - loss: 0.0067 - accuracy: 0.9977\n",
      "Epoch 86/100\n",
      "13/13 [==============================] - ETA: 0s - loss: 0.0018 - accuracy: 0.9993WARNING:tensorflow:Can save best model only with acc available, skipping.\n",
      "13/13 [==============================] - 102s 8s/step - loss: 0.0018 - accuracy: 0.9993\n",
      "Epoch 87/100\n",
      "13/13 [==============================] - ETA: 0s - loss: 0.0092 - accuracy: 0.9974WARNING:tensorflow:Can save best model only with acc available, skipping.\n",
      "13/13 [==============================] - 102s 8s/step - loss: 0.0092 - accuracy: 0.9974\n",
      "Epoch 88/100\n",
      "13/13 [==============================] - ETA: 0s - loss: 0.0030 - accuracy: 0.9987WARNING:tensorflow:Can save best model only with acc available, skipping.\n",
      "13/13 [==============================] - 101s 8s/step - loss: 0.0030 - accuracy: 0.9987\n",
      "Epoch 89/100\n",
      "13/13 [==============================] - ETA: 0s - loss: 0.0119 - accuracy: 0.9971WARNING:tensorflow:Can save best model only with acc available, skipping.\n",
      "13/13 [==============================] - 108s 8s/step - loss: 0.0119 - accuracy: 0.9971\n",
      "Epoch 90/100\n",
      "13/13 [==============================] - ETA: 0s - loss: 0.0111 - accuracy: 0.9964WARNING:tensorflow:Can save best model only with acc available, skipping.\n",
      "13/13 [==============================] - 102s 8s/step - loss: 0.0111 - accuracy: 0.9964\n",
      "Epoch 91/100\n",
      "13/13 [==============================] - ETA: 0s - loss: 0.0105 - accuracy: 0.9971WARNING:tensorflow:Can save best model only with acc available, skipping.\n",
      "13/13 [==============================] - 103s 8s/step - loss: 0.0105 - accuracy: 0.9971\n",
      "Epoch 92/100\n",
      "13/13 [==============================] - ETA: 0s - loss: 0.0092 - accuracy: 0.9974WARNING:tensorflow:Can save best model only with acc available, skipping.\n",
      "13/13 [==============================] - 100s 8s/step - loss: 0.0092 - accuracy: 0.9974\n",
      "Epoch 93/100\n",
      "13/13 [==============================] - ETA: 0s - loss: 0.0163 - accuracy: 0.9977WARNING:tensorflow:Can save best model only with acc available, skipping.\n",
      "13/13 [==============================] - 99s 8s/step - loss: 0.0163 - accuracy: 0.9977\n",
      "Epoch 94/100\n",
      "13/13 [==============================] - ETA: 0s - loss: 0.0148 - accuracy: 0.9951WARNING:tensorflow:Can save best model only with acc available, skipping.\n",
      "13/13 [==============================] - 99s 8s/step - loss: 0.0148 - accuracy: 0.9951\n",
      "Epoch 95/100\n",
      "13/13 [==============================] - ETA: 0s - loss: 0.0084 - accuracy: 0.9971WARNING:tensorflow:Can save best model only with acc available, skipping.\n",
      "13/13 [==============================] - 99s 8s/step - loss: 0.0084 - accuracy: 0.9971\n",
      "Epoch 96/100\n",
      "13/13 [==============================] - ETA: 0s - loss: 0.0058 - accuracy: 0.9987WARNING:tensorflow:Can save best model only with acc available, skipping.\n",
      "13/13 [==============================] - 99s 8s/step - loss: 0.0058 - accuracy: 0.9987\n"
     ]
    },
    {
     "name": "stdout",
     "output_type": "stream",
     "text": [
      "Epoch 97/100\n",
      "13/13 [==============================] - ETA: 0s - loss: 0.0085 - accuracy: 0.9984WARNING:tensorflow:Can save best model only with acc available, skipping.\n",
      "13/13 [==============================] - 99s 8s/step - loss: 0.0085 - accuracy: 0.9984\n",
      "Epoch 98/100\n",
      "13/13 [==============================] - ETA: 0s - loss: 0.0056 - accuracy: 0.9987WARNING:tensorflow:Can save best model only with acc available, skipping.\n",
      "13/13 [==============================] - 99s 8s/step - loss: 0.0056 - accuracy: 0.9987\n",
      "Epoch 99/100\n",
      "13/13 [==============================] - ETA: 0s - loss: 0.0036 - accuracy: 0.9993WARNING:tensorflow:Can save best model only with acc available, skipping.\n",
      "13/13 [==============================] - 99s 8s/step - loss: 0.0036 - accuracy: 0.9993\n",
      "Epoch 100/100\n",
      "13/13 [==============================] - ETA: 0s - loss: 0.0033 - accuracy: 0.9990WARNING:tensorflow:Can save best model only with acc available, skipping.\n",
      "13/13 [==============================] - 99s 8s/step - loss: 0.0033 - accuracy: 0.9990\n"
     ]
    }
   ],
   "source": [
    "history = model.fit(x=Xtrain, y=ytrain, batch_size=256, epochs=100, callbacks=callbacks_list)"
   ]
  },
  {
   "cell_type": "markdown",
   "metadata": {},
   "source": []
  },
  {
   "cell_type": "markdown",
   "metadata": {},
   "source": []
  },
  {
   "cell_type": "markdown",
   "metadata": {},
   "source": []
  },
  {
   "cell_type": "code",
   "execution_count": 22,
   "metadata": {},
   "outputs": [
    {
     "ename": "OSError",
     "evalue": "Unable to open file (unable to open file: name = 'best-model.hdf5', errno = 2, error message = 'No such file or directory', flags = 0, o_flags = 0)",
     "output_type": "error",
     "traceback": [
      "\u001b[1;31m---------------------------------------------------------------------------\u001b[0m",
      "\u001b[1;31mOSError\u001b[0m                                   Traceback (most recent call last)",
      "\u001b[1;32m<ipython-input-22-e8eeb3b0e311>\u001b[0m in \u001b[0;36m<module>\u001b[1;34m\u001b[0m\n\u001b[0;32m      1\u001b[0m \u001b[1;31m# load best weights\u001b[0m\u001b[1;33m\u001b[0m\u001b[1;33m\u001b[0m\u001b[1;33m\u001b[0m\u001b[0m\n\u001b[1;32m----> 2\u001b[1;33m \u001b[0mmodel\u001b[0m\u001b[1;33m.\u001b[0m\u001b[0mload_weights\u001b[0m\u001b[1;33m(\u001b[0m\u001b[1;34m\"best-model.hdf5\"\u001b[0m\u001b[1;33m)\u001b[0m\u001b[1;33m\u001b[0m\u001b[1;33m\u001b[0m\u001b[0m\n\u001b[0m\u001b[0;32m      3\u001b[0m \u001b[0mmodel\u001b[0m\u001b[1;33m.\u001b[0m\u001b[0mcompile\u001b[0m\u001b[1;33m(\u001b[0m\u001b[0mloss\u001b[0m\u001b[1;33m=\u001b[0m\u001b[1;34m'categorical_crossentropy'\u001b[0m\u001b[1;33m,\u001b[0m \u001b[0moptimizer\u001b[0m\u001b[1;33m=\u001b[0m\u001b[0madam\u001b[0m\u001b[1;33m,\u001b[0m \u001b[0mmetrics\u001b[0m\u001b[1;33m=\u001b[0m\u001b[1;33m[\u001b[0m\u001b[1;34m'accuracy'\u001b[0m\u001b[1;33m]\u001b[0m\u001b[1;33m)\u001b[0m\u001b[1;33m\u001b[0m\u001b[1;33m\u001b[0m\u001b[0m\n",
      "\u001b[1;32mC:\\ProgramData\\Anaconda3\\lib\\site-packages\\tensorflow\\python\\keras\\engine\\training.py\u001b[0m in \u001b[0;36mload_weights\u001b[1;34m(self, filepath, by_name, skip_mismatch, options)\u001b[0m\n\u001b[0;32m   2202\u001b[0m           'first, then load the weights.')\n\u001b[0;32m   2203\u001b[0m     \u001b[0mself\u001b[0m\u001b[1;33m.\u001b[0m\u001b[0m_assert_weights_created\u001b[0m\u001b[1;33m(\u001b[0m\u001b[1;33m)\u001b[0m\u001b[1;33m\u001b[0m\u001b[1;33m\u001b[0m\u001b[0m\n\u001b[1;32m-> 2204\u001b[1;33m     \u001b[1;32mwith\u001b[0m \u001b[0mh5py\u001b[0m\u001b[1;33m.\u001b[0m\u001b[0mFile\u001b[0m\u001b[1;33m(\u001b[0m\u001b[0mfilepath\u001b[0m\u001b[1;33m,\u001b[0m \u001b[1;34m'r'\u001b[0m\u001b[1;33m)\u001b[0m \u001b[1;32mas\u001b[0m \u001b[0mf\u001b[0m\u001b[1;33m:\u001b[0m\u001b[1;33m\u001b[0m\u001b[1;33m\u001b[0m\u001b[0m\n\u001b[0m\u001b[0;32m   2205\u001b[0m       \u001b[1;32mif\u001b[0m \u001b[1;34m'layer_names'\u001b[0m \u001b[1;32mnot\u001b[0m \u001b[1;32min\u001b[0m \u001b[0mf\u001b[0m\u001b[1;33m.\u001b[0m\u001b[0mattrs\u001b[0m \u001b[1;32mand\u001b[0m \u001b[1;34m'model_weights'\u001b[0m \u001b[1;32min\u001b[0m \u001b[0mf\u001b[0m\u001b[1;33m:\u001b[0m\u001b[1;33m\u001b[0m\u001b[1;33m\u001b[0m\u001b[0m\n\u001b[0;32m   2206\u001b[0m         \u001b[0mf\u001b[0m \u001b[1;33m=\u001b[0m \u001b[0mf\u001b[0m\u001b[1;33m[\u001b[0m\u001b[1;34m'model_weights'\u001b[0m\u001b[1;33m]\u001b[0m\u001b[1;33m\u001b[0m\u001b[1;33m\u001b[0m\u001b[0m\n",
      "\u001b[1;32mC:\\ProgramData\\Anaconda3\\lib\\site-packages\\h5py\\_hl\\files.py\u001b[0m in \u001b[0;36m__init__\u001b[1;34m(self, name, mode, driver, libver, userblock_size, swmr, rdcc_nslots, rdcc_nbytes, rdcc_w0, track_order, **kwds)\u001b[0m\n\u001b[0;32m    404\u001b[0m             \u001b[1;32mwith\u001b[0m \u001b[0mphil\u001b[0m\u001b[1;33m:\u001b[0m\u001b[1;33m\u001b[0m\u001b[1;33m\u001b[0m\u001b[0m\n\u001b[0;32m    405\u001b[0m                 \u001b[0mfapl\u001b[0m \u001b[1;33m=\u001b[0m \u001b[0mmake_fapl\u001b[0m\u001b[1;33m(\u001b[0m\u001b[0mdriver\u001b[0m\u001b[1;33m,\u001b[0m \u001b[0mlibver\u001b[0m\u001b[1;33m,\u001b[0m \u001b[0mrdcc_nslots\u001b[0m\u001b[1;33m,\u001b[0m \u001b[0mrdcc_nbytes\u001b[0m\u001b[1;33m,\u001b[0m \u001b[0mrdcc_w0\u001b[0m\u001b[1;33m,\u001b[0m \u001b[1;33m**\u001b[0m\u001b[0mkwds\u001b[0m\u001b[1;33m)\u001b[0m\u001b[1;33m\u001b[0m\u001b[1;33m\u001b[0m\u001b[0m\n\u001b[1;32m--> 406\u001b[1;33m                 fid = make_fid(name, mode, userblock_size,\n\u001b[0m\u001b[0;32m    407\u001b[0m                                \u001b[0mfapl\u001b[0m\u001b[1;33m,\u001b[0m \u001b[0mfcpl\u001b[0m\u001b[1;33m=\u001b[0m\u001b[0mmake_fcpl\u001b[0m\u001b[1;33m(\u001b[0m\u001b[0mtrack_order\u001b[0m\u001b[1;33m=\u001b[0m\u001b[0mtrack_order\u001b[0m\u001b[1;33m)\u001b[0m\u001b[1;33m,\u001b[0m\u001b[1;33m\u001b[0m\u001b[1;33m\u001b[0m\u001b[0m\n\u001b[0;32m    408\u001b[0m                                swmr=swmr)\n",
      "\u001b[1;32mC:\\ProgramData\\Anaconda3\\lib\\site-packages\\h5py\\_hl\\files.py\u001b[0m in \u001b[0;36mmake_fid\u001b[1;34m(name, mode, userblock_size, fapl, fcpl, swmr)\u001b[0m\n\u001b[0;32m    171\u001b[0m         \u001b[1;32mif\u001b[0m \u001b[0mswmr\u001b[0m \u001b[1;32mand\u001b[0m \u001b[0mswmr_support\u001b[0m\u001b[1;33m:\u001b[0m\u001b[1;33m\u001b[0m\u001b[1;33m\u001b[0m\u001b[0m\n\u001b[0;32m    172\u001b[0m             \u001b[0mflags\u001b[0m \u001b[1;33m|=\u001b[0m \u001b[0mh5f\u001b[0m\u001b[1;33m.\u001b[0m\u001b[0mACC_SWMR_READ\u001b[0m\u001b[1;33m\u001b[0m\u001b[1;33m\u001b[0m\u001b[0m\n\u001b[1;32m--> 173\u001b[1;33m         \u001b[0mfid\u001b[0m \u001b[1;33m=\u001b[0m \u001b[0mh5f\u001b[0m\u001b[1;33m.\u001b[0m\u001b[0mopen\u001b[0m\u001b[1;33m(\u001b[0m\u001b[0mname\u001b[0m\u001b[1;33m,\u001b[0m \u001b[0mflags\u001b[0m\u001b[1;33m,\u001b[0m \u001b[0mfapl\u001b[0m\u001b[1;33m=\u001b[0m\u001b[0mfapl\u001b[0m\u001b[1;33m)\u001b[0m\u001b[1;33m\u001b[0m\u001b[1;33m\u001b[0m\u001b[0m\n\u001b[0m\u001b[0;32m    174\u001b[0m     \u001b[1;32melif\u001b[0m \u001b[0mmode\u001b[0m \u001b[1;33m==\u001b[0m \u001b[1;34m'r+'\u001b[0m\u001b[1;33m:\u001b[0m\u001b[1;33m\u001b[0m\u001b[1;33m\u001b[0m\u001b[0m\n\u001b[0;32m    175\u001b[0m         \u001b[0mfid\u001b[0m \u001b[1;33m=\u001b[0m \u001b[0mh5f\u001b[0m\u001b[1;33m.\u001b[0m\u001b[0mopen\u001b[0m\u001b[1;33m(\u001b[0m\u001b[0mname\u001b[0m\u001b[1;33m,\u001b[0m \u001b[0mh5f\u001b[0m\u001b[1;33m.\u001b[0m\u001b[0mACC_RDWR\u001b[0m\u001b[1;33m,\u001b[0m \u001b[0mfapl\u001b[0m\u001b[1;33m=\u001b[0m\u001b[0mfapl\u001b[0m\u001b[1;33m)\u001b[0m\u001b[1;33m\u001b[0m\u001b[1;33m\u001b[0m\u001b[0m\n",
      "\u001b[1;32mh5py\\_objects.pyx\u001b[0m in \u001b[0;36mh5py._objects.with_phil.wrapper\u001b[1;34m()\u001b[0m\n",
      "\u001b[1;32mh5py\\_objects.pyx\u001b[0m in \u001b[0;36mh5py._objects.with_phil.wrapper\u001b[1;34m()\u001b[0m\n",
      "\u001b[1;32mh5py\\h5f.pyx\u001b[0m in \u001b[0;36mh5py.h5f.open\u001b[1;34m()\u001b[0m\n",
      "\u001b[1;31mOSError\u001b[0m: Unable to open file (unable to open file: name = 'best-model.hdf5', errno = 2, error message = 'No such file or directory', flags = 0, o_flags = 0)"
     ]
    }
   ],
   "source": [
    "# load best weights\n",
    "model.load_weights(\"best-model.hdf5\")\n",
    "model.compile(loss='categorical_crossentropy', optimizer=adam, metrics=['accuracy'])"
   ]
  },
  {
   "cell_type": "code",
   "execution_count": 23,
   "metadata": {},
   "outputs": [
    {
     "data": {
      "text/plain": [
       "(7175, 25, 25, 30, 1)"
      ]
     },
     "execution_count": 23,
     "metadata": {},
     "output_type": "execute_result"
    }
   ],
   "source": [
    "Xtest = Xtest.reshape(-1, windowSize, windowSize, K, 1)\n",
    "Xtest.shape"
   ]
  },
  {
   "cell_type": "code",
   "execution_count": 24,
   "metadata": {},
   "outputs": [
    {
     "data": {
      "text/plain": [
       "(7175, 16)"
      ]
     },
     "execution_count": 24,
     "metadata": {},
     "output_type": "execute_result"
    }
   ],
   "source": [
    "ytest = np_utils.to_categorical(ytest)\n",
    "ytest.shape"
   ]
  },
  {
   "cell_type": "code",
   "execution_count": 25,
   "metadata": {},
   "outputs": [
    {
     "name": "stdout",
     "output_type": "stream",
     "text": [
      "              precision    recall  f1-score   support\n",
      "\n",
      "           0       1.00      1.00      1.00        32\n",
      "           1       0.99      1.00      0.99      1000\n",
      "           2       0.99      0.99      0.99       581\n",
      "           3       1.00      1.00      1.00       166\n",
      "           4       0.98      0.99      0.99       338\n",
      "           5       0.99      1.00      0.99       511\n",
      "           6       1.00      0.95      0.97        20\n",
      "           7       1.00      1.00      1.00       335\n",
      "           8       1.00      0.86      0.92        14\n",
      "           9       1.00      1.00      1.00       680\n",
      "          10       1.00      1.00      1.00      1719\n",
      "          11       1.00      0.99      0.99       415\n",
      "          12       1.00      1.00      1.00       143\n",
      "          13       1.00      1.00      1.00       886\n",
      "          14       1.00      1.00      1.00       270\n",
      "          15       0.97      1.00      0.98        65\n",
      "\n",
      "    accuracy                           1.00      7175\n",
      "   macro avg       0.99      0.99      0.99      7175\n",
      "weighted avg       1.00      1.00      1.00      7175\n",
      "\n"
     ]
    }
   ],
   "source": [
    "Y_pred_test = model.predict(Xtest)\n",
    "y_pred_test = np.argmax(Y_pred_test, axis=1)\n",
    "\n",
    "classification = classification_report(np.argmax(ytest, axis=1), y_pred_test)\n",
    "print(classification)"
   ]
  },
  {
   "cell_type": "code",
   "execution_count": 26,
   "metadata": {},
   "outputs": [],
   "source": [
    "def AA_andEachClassAccuracy(confusion_matrix):\n",
    "    counter = confusion_matrix.shape[0]\n",
    "    list_diag = np.diag(confusion_matrix)\n",
    "    list_raw_sum = np.sum(confusion_matrix, axis=1)\n",
    "    each_acc = np.nan_to_num(truediv(list_diag, list_raw_sum))\n",
    "    average_acc = np.mean(each_acc)\n",
    "    return each_acc, average_acc"
   ]
  },
  {
   "cell_type": "code",
   "execution_count": 27,
   "metadata": {},
   "outputs": [],
   "source": [
    "def reports (X_test,y_test,name):\n",
    "    #start = time.time()\n",
    "    Y_pred = model.predict(X_test)\n",
    "    y_pred = np.argmax(Y_pred, axis=1)\n",
    "    #end = time.time()\n",
    "    #print(end - start)\n",
    "    if name == 'IP':\n",
    "        target_names = ['Alfalfa', 'Corn-notill', 'Corn-mintill', 'Corn'\n",
    "                        ,'Grass-pasture', 'Grass-trees', 'Grass-pasture-mowed', \n",
    "                        'Hay-windrowed', 'Oats', 'Soybean-notill', 'Soybean-mintill',\n",
    "                        'Soybean-clean', 'Wheat', 'Woods', 'Buildings-Grass-Trees-Drives',\n",
    "                        'Stone-Steel-Towers']\n",
    "    elif name == 'SA':\n",
    "        target_names = ['Brocoli_green_weeds_1','Brocoli_green_weeds_2','Fallow','Fallow_rough_plow','Fallow_smooth',\n",
    "                        'Stubble','Celery','Grapes_untrained','Soil_vinyard_develop','Corn_senesced_green_weeds',\n",
    "                        'Lettuce_romaine_4wk','Lettuce_romaine_5wk','Lettuce_romaine_6wk','Lettuce_romaine_7wk',\n",
    "                        'Vinyard_untrained','Vinyard_vertical_trellis']\n",
    "    elif name == 'PU':\n",
    "        target_names = ['Asphalt','Meadows','Gravel','Trees', 'Painted metal sheets','Bare Soil','Bitumen',\n",
    "                        'Self-Blocking Bricks','Shadows']\n",
    "    \n",
    "    classification = classification_report(np.argmax(y_test, axis=1), y_pred, target_names=target_names)\n",
    "    oa = accuracy_score(np.argmax(y_test, axis=1), y_pred)\n",
    "    confusion = confusion_matrix(np.argmax(y_test, axis=1), y_pred)\n",
    "    each_acc, aa = AA_andEachClassAccuracy(confusion)\n",
    "    kappa = cohen_kappa_score(np.argmax(y_test, axis=1), y_pred)\n",
    "    score = model.evaluate(X_test, y_test, batch_size=32)\n",
    "    Test_Loss =  score[0]*100\n",
    "    Test_accuracy = score[1]*100\n",
    "    \n",
    "    return classification, confusion, Test_Loss, Test_accuracy, oa*100, each_acc*100, aa*100, kappa*100"
   ]
  },
  {
   "cell_type": "code",
   "execution_count": 28,
   "metadata": {},
   "outputs": [
    {
     "name": "stdout",
     "output_type": "stream",
     "text": [
      "225/225 [==============================] - 52s 230ms/step - loss: 0.0199 - accuracy: 0.9957\n"
     ]
    }
   ],
   "source": [
    "classification, confusion, Test_loss, Test_accuracy, oa, each_acc, aa, kappa = reports(Xtest,ytest,dataset)\n",
    "classification = str(classification)\n",
    "confusion = str(confusion)\n",
    "file_name = \"classification_report.txt\"\n",
    "\n",
    "with open(file_name, 'w') as x_file:\n",
    "    x_file.write('{} Test loss (%)'.format(Test_loss))\n",
    "    x_file.write('\\n')\n",
    "    x_file.write('{} Test accuracy (%)'.format(Test_accuracy))\n",
    "    x_file.write('\\n')\n",
    "    x_file.write('\\n')\n",
    "    x_file.write('{} Kappa accuracy (%)'.format(kappa))\n",
    "    x_file.write('\\n')\n",
    "    x_file.write('{} Overall accuracy (%)'.format(oa))\n",
    "    x_file.write('\\n')\n",
    "    x_file.write('{} Average accuracy (%)'.format(aa))\n",
    "    x_file.write('\\n')\n",
    "    x_file.write('\\n')\n",
    "    x_file.write('{}'.format(classification))\n",
    "    x_file.write('\\n')\n",
    "    x_file.write('{}'.format(confusion))"
   ]
  },
  {
   "cell_type": "code",
   "execution_count": 29,
   "metadata": {},
   "outputs": [],
   "source": [
    "def Patch(data,height_index,width_index):\n",
    "    height_slice = slice(height_index, height_index+PATCH_SIZE)\n",
    "    width_slice = slice(width_index, width_index+PATCH_SIZE)\n",
    "    patch = data[height_slice, width_slice, :]\n",
    "    \n",
    "    return patch"
   ]
  },
  {
   "cell_type": "code",
   "execution_count": 30,
   "metadata": {},
   "outputs": [],
   "source": [
    "# load the original image\n",
    "X, y = loadData(dataset)"
   ]
  },
  {
   "cell_type": "code",
   "execution_count": 31,
   "metadata": {},
   "outputs": [],
   "source": [
    "height = y.shape[0]\n",
    "width = y.shape[1]\n",
    "PATCH_SIZE = windowSize\n",
    "numComponents = K"
   ]
  },
  {
   "cell_type": "code",
   "execution_count": 32,
   "metadata": {},
   "outputs": [],
   "source": [
    "X,pca = applyPCA(X, numComponents=numComponents)"
   ]
  },
  {
   "cell_type": "code",
   "execution_count": 33,
   "metadata": {},
   "outputs": [],
   "source": [
    "X = padWithZeros(X, PATCH_SIZE//2)"
   ]
  },
  {
   "cell_type": "code",
   "execution_count": 34,
   "metadata": {},
   "outputs": [],
   "source": [
    "# calculate the predicted image\n",
    "outputs = np.zeros((height,width))\n",
    "for i in range(height):\n",
    "    for j in range(width):\n",
    "        target = int(y[i,j])\n",
    "        if target == 0 :\n",
    "            continue\n",
    "        else :\n",
    "            image_patch=Patch(X,i,j)\n",
    "            X_test_image = image_patch.reshape(1,image_patch.shape[0],image_patch.shape[1], image_patch.shape[2], 1).astype('float32')                                   \n",
    "            prediction = (model.predict(X_test_image))\n",
    "            prediction = np.argmax(prediction, axis=1)\n",
    "            outputs[i][j] = prediction+1"
   ]
  },
  {
   "cell_type": "code",
   "execution_count": 35,
   "metadata": {},
   "outputs": [
    {
     "data": {
      "image/png": "[encoded data removed]",
      "text/plain": [
       "<Figure size 504x504 with 1 Axes>"
      ]
     },
     "metadata": {
      "needs_background": "light"
     },
     "output_type": "display_data"
    }
   ],
   "source": [
    "ground_truth = spectral.imshow(classes = y,figsize =(7,7))"
   ]
  },
  {
   "cell_type": "code",
   "execution_count": 36,
   "metadata": {},
   "outputs": [
    {
     "data": {
      "image/png": "[encoded data removed]",
      "text/plain": [
       "<Figure size 504x504 with 1 Axes>"
      ]
     },
     "metadata": {
      "needs_background": "light"
     },
     "output_type": "display_data"
    }
   ],
   "source": [
    "predict_image = spectral.imshow(classes = outputs.astype(int),figsize =(7,7))"
   ]
  },
  {
   "cell_type": "code",
   "execution_count": 37,
   "metadata": {},
   "outputs": [
    {
     "name": "stdout",
     "output_type": "stream",
     "text": [
      "Total pixels: 21025\n",
      "Enter 1st value of pixels size10\n",
      "Enter 2nd value of pixels size10\n",
      "Each Pixel Size= 100\n",
      "Area= 2102500\n"
     ]
    }
   ],
   "source": [
    "from PIL import Image\n",
    "\n",
    "\n",
    "print(\"Total pixels:\",width*height)\n",
    "\n",
    "value1=int(input(\"Enter 1st value of pixels size\"))\n",
    "#pixels size of first input value for each pixel\n",
    "value2=int(input(\"Enter 2nd value of pixels size\"))\n",
    "#pixels size of second input value for each pixel \n",
    "\n",
    "pixelsize=value1*value2;\n",
    "print(\"Each Pixel Size=\",pixelsize)\n",
    "\n",
    "area = width*height*pixelsize;\n",
    "print(\"Area=\",area)\n"
   ]
  },
  {
   "cell_type": "markdown",
   "metadata": {},
   "source": []
  }
 ],
 "metadata": {
  "kernelspec": {
   "display_name": "Python 3",
   "language": "python",
   "name": "python3"
  },
  "language_info": {
   "codemirror_mode": {
    "name": "ipython",
    "version": 3
   },
   "file_extension": ".py",
   "mimetype": "text/x-python",
   "name": "python",
   "nbconvert_exporter": "python",
   "pygments_lexer": "ipython3",
   "version": "3.7.4"
  }
 },
 "nbformat": 4,
 "nbformat_minor": 2
}
