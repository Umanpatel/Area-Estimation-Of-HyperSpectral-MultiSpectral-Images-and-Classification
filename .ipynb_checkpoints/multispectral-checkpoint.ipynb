{
 "cells": [
  {
   "cell_type": "code",
   "execution_count": 21,
   "metadata": {},
   "outputs": [
    {
     "name": "stdout",
     "output_type": "stream",
     "text": [
      "C:\\Users\\Admin\\Desktop\\Ma Pro\\data\n",
      "C:\\Users\\Admin\\Desktop\\Ma Pro\\data\\multispectral.tif\n",
      "[ 85   7  56 ...   7 181   6]\n"
     ]
    }
   ],
   "source": [
    "from PIL import Image\n",
    "import numpy as np\n",
    "import sys\n",
    "import os\n",
    "import csv\n",
    "import pandas as pd\n",
    "\n",
    "#Useful function\n",
    "def createFileList(myDir, format='.tif'):\n",
    "    fileList = []\n",
    "    print(myDir)\n",
    "    for root, dirs, files in os.walk(myDir, topdown=False):\n",
    "        for name in files:\n",
    "            if name.endswith(format):\n",
    "                fullName = os.path.join(root, name)\n",
    "                fileList.append(fullName)\n",
    "    return fileList\n",
    "\n",
    "# load the original image\n",
    "myFileList = createFileList(r\"C:\\Users\\Admin\\Desktop\\Ma Pro\\data\")\n",
    "\n",
    "for file in myFileList:\n",
    "    print(file)\n",
    "    img_file = Image.open(file)\n",
    "    # img_file.show()\n",
    "\n",
    "    # get original image parameters...\n",
    "    width, height = img_file.size\n",
    "    format = img_file.format\n",
    "    mode = img_file.mode\n",
    "\n",
    "    # Make image Greyscale\n",
    "    img_grey = img_file.convert('L')\n",
    "    #img_grey.save('result.png')\n",
    "    #img_grey.show()\n",
    "\n",
    "    # Save Greyscale values\n",
    "    value = np.asarray(img_grey.getdata(), dtype=np.int).reshape((img_grey.size[1], img_grey.size[0]))\n",
    "    value = value.flatten()\n",
    "    print(value)\n",
    "    with open(\"img_pixels.csv\", 'a') as f:\n",
    "        writer = csv.writer(f)\n",
    "        writer.writerow(value)"
   ]
  },
  {
   "cell_type": "code",
   "execution_count": 38,
   "metadata": {},
   "outputs": [
    {
     "name": "stdout",
     "output_type": "stream",
     "text": [
      "(0, 360000)\n",
      "Empty DataFrame\n",
      "Columns: [85, 7, 56, 8, 136, 7.1, 208, 6, 155, 6.1, 125, 6.2, 140, 6.3, 118, 7.2, 180, 7.3, 94, 8.1, 93, 8.2, 69, 8.3, 102, 7.4, 20, 7.5, 138, 7.6, 188, 6.4, 219, 6.5, 206, 6.6, 137, 6.7, 187, 6.8, 69.1, 6.9, 162, 6.10, 93.1, 7.7, 104, 6.11, 94.1, 6.12, 148, 6.13, 141, 6.14, 89, 6.15, 87, 6.16, 97, 5, 193, 5.1, 48, 5.2, 84, 6.17, 38, 6.18, 115, 5.3, 69.2, 6.19, 97.1, 6.20, 67, 8.4, 83, 8.5, 231, 7.8, 72, 7.9, 138.1, 6.21, 71, 7.10, 127, 7.11, 202, 7.12, 195, 7.13, 33, 7.14, 55, 7.15, 210, 7.16, 78, 7.17, ...]\n",
      "Index: []\n",
      "\n",
      "[0 rows x 360000 columns]\n"
     ]
    }
   ],
   "source": [
    "data = pd.read_csv('img_pixels.csv')\n",
    "print(data.shape)\n",
    "print(data.head(5))\n",
    "\n",
    "def convert2image(row):\n",
    "    pixels = row['pixels']  # In dataset,row heading was 'pixels'\n",
    "    img = np.array(pixels.split())\n",
    "    img = img.reshape(48,48)  # dimensions of the image\n",
    "    image = np.zeros((48,48,3))  # empty matrix\n",
    "    image[:,:,0] = img\n",
    "    image[:,:,1] = img\n",
    "    image[:,:,2] = img\n",
    "    return image.astype(np.uint8) # return the image\n",
    "\n",
    "\n",
    "count = 0  # initialize counter\n",
    "for i in range(1, data.shape[0]):  #data.shape[0] gives no. of rows\n",
    "  face = data.iloc[i]  # remove one row from the data\n",
    "  img = convert2image(face)  # send this row of to the function \n",
    "  # cv2.imshow(\"image\", img) \n",
    "  # cv2.waitKey(0)  # closes the image window when you press a key   \n",
    "  count+=1  # counter to save the images with different name         \n",
    "  cv2.imwrite(r'C:\\Users\\Admin\\Desktop\\Ma Pro'+ str(count) +'.jpg',img) # path of location"
   ]
  },
  {
   "cell_type": "code",
   "execution_count": null,
   "metadata": {},
   "outputs": [],
   "source": []
  }
 ],
 "metadata": {
  "kernelspec": {
   "display_name": "Python 3",
   "language": "python",
   "name": "python3"
  },
  "language_info": {
   "codemirror_mode": {
    "name": "ipython",
    "version": 3
   },
   "file_extension": ".py",
   "mimetype": "text/x-python",
   "name": "python",
   "nbconvert_exporter": "python",
   "pygments_lexer": "ipython3",
   "version": "3.8.3"
  }
 },
 "nbformat": 4,
 "nbformat_minor": 4
}
